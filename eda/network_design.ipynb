{
 "cells": [
  {
   "cell_type": "code",
   "metadata": {
    "ExecuteTime": {
     "end_time": "2024-12-04T14:59:40.118385Z",
     "start_time": "2024-12-04T14:59:39.192972Z"
    }
   },
   "source": [
    "import networkx as nx\n",
    "import matplotlib.pyplot as plt"
   ],
   "outputs": [],
   "execution_count": 1
  },
  {
   "cell_type": "code",
   "metadata": {
    "ExecuteTime": {
     "end_time": "2024-12-04T15:14:01.516891Z",
     "start_time": "2024-12-04T15:14:01.396534Z"
    }
   },
   "source": [
    "# Create a 2D grid graph with integer node indices\n",
    "def create_grid(m, n):\n",
    "    G = nx.Graph()\n",
    "    node_mapping = {}  # Map (row, col) to a unique integer\n",
    "    counter = 0\n",
    "\n",
    "    for i in range(m):\n",
    "        for j in range(n):\n",
    "            node_mapping[(i, j)] = counter\n",
    "            counter += 1\n",
    "\n",
    "    for i in range(m):\n",
    "        for j in range(n):\n",
    "            if i > 0:\n",
    "                G.add_edge(node_mapping[(i, j)], node_mapping[(i - 1, j)], weight=1)\n",
    "            if j > 0:\n",
    "                G.add_edge(node_mapping[(i, j)], node_mapping[(i, j - 1)], weight=1)\n",
    "    \n",
    "    return G, node_mapping\n",
    "\n",
    "# Create a 3x3 grid graph\n",
    "G, node_mapping = create_grid(3, 3)\n",
    "\n",
    "od_flows = {\n",
    "    (1, 8): 190,\n",
    "    (2, 6): 10,\n",
    "}\n",
    "\n",
    "routes = [\n",
    "    (1, 2, 5, 8, 7, 6),\n",
    "    (1, 2, 5, 4, 3, 6, 7, 8),\n",
    "]\n",
    "\n",
    "possible_fleet_compositions = [\n",
    "    (1, 1),\n",
    "    (2, 0),\n",
    "    (0, 2),\n",
    "    (2, 1),\n",
    "    (1, 2),\n",
    "    (0, 3),\n",
    "    (3, 0),\n",
    "]\n",
    "\n",
    "# Generate positions for nodes (2D grid layout)\n",
    "pos = {node_mapping[(x, y)]: (y, -x) for x, y in node_mapping.keys()}  # Flip y-coordinates for a natural grid look\n",
    "\n",
    "# Draw the graph\n",
    "nx.draw(G, pos, with_labels=True, node_color='lightblue')\n",
    "\n",
    "# Highlight the first route\n",
    "route = routes[1]\n",
    "edges = [(route[i], route[i + 1]) for i in range(len(route) - 1)]\n",
    "nx.draw_networkx_edges(G, pos, edgelist=edges, edge_color='r', width=2)\n",
    "\n",
    "# Display the plot\n",
    "plt.show()\n"
   ],
   "outputs": [
    {
     "data": {
      "text/plain": [
       "<Figure size 640x480 with 1 Axes>"
      ],
      "image/png": "[encoded data removed]"
     },
     "metadata": {},
     "output_type": "display_data"
    }
   ],
   "execution_count": 9
  },
  {
   "cell_type": "code",
   "metadata": {
    "ExecuteTime": {
     "end_time": "2024-12-04T15:36:21.661508Z",
     "start_time": "2024-12-04T15:36:21.603106Z"
    }
   },
   "source": [
    "import yaml\n",
    "from pathlib import Path\n",
    "\n",
    "def write_yaml(\n",
    "    fleet_composition: str,\n",
    "    avg_travel_time: float,\n",
    "    output_file_path: Path,\n",
    "    avg_discomfort_level: float,\n",
    "    avg_transfers: float,\n",
    "    avg_hops: float,\n",
    "    total_emissions: float,\n",
    "    overwrite: bool = False\n",
    "):\n",
    "    # Check if file exists and load existing data if overwrite is False\n",
    "    if output_file_path.exists():\n",
    "        with output_file_path.open(\"r\") as file:\n",
    "            data = yaml.safe_load(file)\n",
    "    else:\n",
    "        data = {}\n",
    "\n",
    "    # Initialize the YAML structure if file is new or overwrite is True\n",
    "    if overwrite or \"F\" not in data or \"R\" not in data:\n",
    "        data = {\n",
    "            \"F\": [\n",
    "                \"satisfied_demand\"\n",
    "            ],\n",
    "            \"R\": [\n",
    "                \"`fleet\",  # Fixed fleet composition\n",
    "                \"s\",  # avg_travel_time\n",
    "                \"Reals\",  # avg_discomfort_level\n",
    "                \"Reals\",  # avg_transfers\n",
    "                \"Reals\",  # avg_hops\n",
    "                \"kg/year\",  # total_emissions\n",
    "            ],\n",
    "            \"implementations\": {}\n",
    "        }\n",
    "\n",
    "    # Get the current implementation number and add the new entry\n",
    "    implementations = data.get(\"implementations\", {})\n",
    "    model_number = len(implementations) + 1\n",
    "    model_name = f\"modelsub{model_number}\"\n",
    "\n",
    "    # Add the new implementation\n",
    "    implementations[model_name] = {\n",
    "        \"f_max\": [\n",
    "            f\"satisfied_demand: demand_1_8_10__2_6_190\"\n",
    "        ],\n",
    "        \"r_min\": [\n",
    "            f\"`fleet: {fleet_composition}\",\n",
    "            f\"{avg_travel_time} s\",\n",
    "            f\"{avg_discomfort} Reals\",\n",
    "            f\"{avg_transfers} Reals\",\n",
    "            f\"{avg_hops} Reals\",\n",
    "            f\"{total_emissions} kg/year\"\n",
    "        ]\n",
    "    }\n",
    "\n",
    "    data[\"implementations\"] = implementations\n",
    "\n",
    "    # Write the updated YAML file\n",
    "    with output_file_path.open(\"w\") as file:\n",
    "        yaml.dump(data, file, default_flow_style=False)\n",
    "\n"
   ],
   "outputs": [],
   "execution_count": 10
  },
  {
   "metadata": {},
   "cell_type": "code",
   "outputs": [],
   "execution_count": null,
   "source": ""
  }
 ],
 "metadata": {
  "kernelspec": {
   "display_name": "actbrd",
   "language": "python",
   "name": "python3"
  },
  "language_info": {
   "codemirror_mode": {
    "name": "ipython",
    "version": 3
   },
   "file_extension": ".py",
   "mimetype": "text/x-python",
   "name": "python",
   "nbconvert_exporter": "python",
   "pygments_lexer": "ipython3",
   "version": "3.12.7"
  }
 },
 "nbformat": 4,
 "nbformat_minor": 2
}
